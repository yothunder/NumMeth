{
 "cells": [
  {
   "cell_type": "markdown",
   "id": "0d25c64c",
   "metadata": {},
   "source": [
    "# 2 - VARIABLES AND BASIC DATA STRUCTURES"
   ]
  },
  {
   "cell_type": "markdown",
   "id": "a4c073ac",
   "metadata": {},
   "source": [
    "## Summary\n",
    "1. Storing, retrieving, and manipulating information and data is important in any scientific and engineering field.\n",
    "2. Assigning variables is an important tool for handling data values.\n",
    "3. There are different data types for storing information in Python: int, float, and boolean for single values, and strings, lists, tuples, sets, and dictionaries for sequential data.\n",
    "4. The NumPy array is a powerful data structure that used a lot in scientific computing."
   ]
  },
  {
   "cell_type": "markdown",
   "id": "e94544fb",
   "metadata": {},
   "source": [
    "## Problems"
   ]
  },
  {
   "cell_type": "markdown",
   "id": "651fa0cc",
   "metadata": {},
   "source": [
    "### 5. Assign string \"123\" to the variable S. Convert the string into a float type and assign the output to the variable N. Verify that S is a string and N is a float using the type function."
   ]
  },
  {
   "cell_type": "code",
   "execution_count": 2,
   "id": "d3798502",
   "metadata": {},
   "outputs": [
    {
     "data": {
      "text/plain": [
       "float"
      ]
     },
     "execution_count": 2,
     "metadata": {},
     "output_type": "execute_result"
    }
   ],
   "source": [
    "s = \"123\"\n",
    "n = float(s)\n",
    "type(n)"
   ]
  },
  {
   "cell_type": "markdown",
   "id": "1f0503cb",
   "metadata": {},
   "source": [
    "### 7. Use the print function to generate the following strings:\n",
    "• The world \"Engineering\" has 11 letters.\n",
    "• The word \"Book\" has 4 letters."
   ]
  },
  {
   "cell_type": "code",
   "execution_count": 4,
   "id": "898548f8",
   "metadata": {},
   "outputs": [
    {
     "name": "stdout",
     "output_type": "stream",
     "text": [
      "11\n",
      "4\n"
     ]
    }
   ],
   "source": [
    "print(len(\"Engineering\"))\n",
    "print(len(\"Book\"))"
   ]
  },
  {
   "cell_type": "markdown",
   "id": "cc654bca",
   "metadata": {},
   "source": [
    "### 8. Check if \"Python\" is in \"Python is great!\"."
   ]
  },
  {
   "cell_type": "code",
   "execution_count": 7,
   "id": "ca3bdab4",
   "metadata": {},
   "outputs": [
    {
     "name": "stdout",
     "output_type": "stream",
     "text": [
      "True\n"
     ]
    }
   ],
   "source": [
    "print(\"Python\" in \"Python is great\")"
   ]
  },
  {
   "cell_type": "markdown",
   "id": "0161ff8c",
   "metadata": {},
   "source": [
    "### 9. Get the last word \"great\" from \"Python is great!\""
   ]
  },
  {
   "cell_type": "code",
   "execution_count": 28,
   "id": "ed6a11ac",
   "metadata": {},
   "outputs": [
    {
     "name": "stdout",
     "output_type": "stream",
     "text": [
      "great!\n",
      "great is not in the sentence\n"
     ]
    }
   ],
   "source": [
    "pg = \"Python is great!\"\n",
    "print(pg[-6:])\n",
    "if (\"great\" in \"Python is great!\"):\n",
    "    print (\"great\") \n",
    "else:\n",
    "    print (\"great is not in the sentence\")"
   ]
  },
  {
   "cell_type": "markdown",
   "id": "c01806a3",
   "metadata": {},
   "source": [
    "### 10. Assign list [1, 8, 9, 15] to a variable list_a and insert 2 at index 1 using the insert method. Append 4 to the list_a using the append method."
   ]
  },
  {
   "cell_type": "code",
   "execution_count": 30,
   "id": "55318cb3",
   "metadata": {},
   "outputs": [
    {
     "name": "stdout",
     "output_type": "stream",
     "text": [
      "[1, 2, 8, 9, 15, 4]\n"
     ]
    }
   ],
   "source": [
    "list_a = [1, 8, 9, 15]\n",
    "list_a.insert(1, 2)\n",
    "list_a.append(4)\n",
    "print(list_a)"
   ]
  },
  {
   "cell_type": "markdown",
   "id": "2e622c1c",
   "metadata": {},
   "source": [
    "### 11. Sort the list_a in problem 10 in ascending order.\n",
    "https://www.w3schools.com/python/ref_list_sort.asp"
   ]
  },
  {
   "cell_type": "code",
   "execution_count": 36,
   "id": "1c8c6578",
   "metadata": {},
   "outputs": [
    {
     "data": {
      "text/plain": [
       "[1, 2, 4, 8, 9, 15]"
      ]
     },
     "execution_count": 36,
     "metadata": {},
     "output_type": "execute_result"
    }
   ],
   "source": [
    "list_a.sort(reverse=False)\n",
    "list_a"
   ]
  },
  {
   "cell_type": "markdown",
   "id": "fde99d69",
   "metadata": {},
   "source": [
    "### 12. Turn \"Python is great!\" into a list."
   ]
  },
  {
   "cell_type": "code",
   "execution_count": 37,
   "id": "66d9f6cb",
   "metadata": {},
   "outputs": [
    {
     "data": {
      "text/plain": [
       "['P',\n",
       " 'y',\n",
       " 't',\n",
       " 'h',\n",
       " 'o',\n",
       " 'n',\n",
       " ' ',\n",
       " 'i',\n",
       " 's',\n",
       " ' ',\n",
       " 'g',\n",
       " 'r',\n",
       " 'e',\n",
       " 'a',\n",
       " 't',\n",
       " '!']"
      ]
     },
     "execution_count": 37,
     "metadata": {},
     "output_type": "execute_result"
    }
   ],
   "source": [
    "list(\"Python is great!\")"
   ]
  },
  {
   "cell_type": "markdown",
   "id": "b70d521c",
   "metadata": {},
   "source": [
    "### 13. Create one tuple with element \"One\", 1 and assign it to tuple_a. 14. Get the second element in the tuple_a"
   ]
  },
  {
   "cell_type": "code",
   "execution_count": 39,
   "id": "dedacf56",
   "metadata": {},
   "outputs": [
    {
     "data": {
      "text/plain": [
       "1"
      ]
     },
     "execution_count": 39,
     "metadata": {},
     "output_type": "execute_result"
    }
   ],
   "source": [
    "tuple_a = (\"one\", 1)\n",
    "tuple_a[1]"
   ]
  },
  {
   "cell_type": "markdown",
   "id": "9a087f5f",
   "metadata": {},
   "source": [
    "### 15. Get the unique element from (2, 3, 2, 3, 1, 2, 5)."
   ]
  },
  {
   "cell_type": "code",
   "execution_count": 44,
   "id": "6af081c7",
   "metadata": {},
   "outputs": [
    {
     "data": {
      "text/plain": [
       "{1, 2, 3, 5}"
      ]
     },
     "execution_count": 44,
     "metadata": {},
     "output_type": "execute_result"
    }
   ],
   "source": [
    "set((2,3,2,3,1,2,5)) #pake dua kurung"
   ]
  },
  {
   "cell_type": "markdown",
   "id": "42994d9a",
   "metadata": {},
   "source": [
    "### 16. Assign (2, 3, 2) to set_a, and (1, 2, 3) to set_b. Obtain the following:\n",
    "- union of set_a and set_b\n",
    "- intersection of set_a and set_b\n",
    "- difference of set_a to set_b using difference method"
   ]
  },
  {
   "cell_type": "code",
   "execution_count": 4,
   "id": "faf2c453",
   "metadata": {},
   "outputs": [
    {
     "name": "stdout",
     "output_type": "stream",
     "text": [
      "{1, 2, 3}\n",
      "{2, 3}\n",
      "set()\n"
     ]
    }
   ],
   "source": [
    "set_a = set((2, 3, 2))\n",
    "set_b = set((1, 2, 3))\n",
    "print(set_a.union(set_b))\n",
    "print(set_a.intersection(set_b))\n",
    "print(set_a.difference(set_b))"
   ]
  },
  {
   "cell_type": "markdown",
   "id": "7067ce26",
   "metadata": {},
   "source": [
    "### 17. Create a dictionary that has the keys \"A\", \"B\", \"C\" with values \"a\", \"b\", \"c\" individually. Print all the keys in the dictionary.\n",
    "### 18. Check if key \"B\" is in the dictionary defined in Problem 17."
   ]
  },
  {
   "cell_type": "code",
   "execution_count": 7,
   "id": "d00ee2a7",
   "metadata": {},
   "outputs": [
    {
     "name": "stdout",
     "output_type": "stream",
     "text": [
      "dict_keys(['A', 'B', 'C'])\n"
     ]
    }
   ],
   "source": [
    "dict = {\"A\":\"a\", \"B\":\"b\", \"C\":\"c\"}\n",
    "print(dict.keys())"
   ]
  },
  {
   "cell_type": "markdown",
   "id": "36339b4c",
   "metadata": {},
   "source": [
    "### 19. Create array x and y, where x = [1, 4, 3, 2, 9, 4] and y=[2, 3, 4, 1, 2, 3]. Compute the assignments from Problem 3.\n",
    "- u = x + y\n",
    "- v = xy\n",
    "- w = x/y\n",
    "- z = sin(x)\n",
    "- r = 8sin(x)\n",
    "- s = 5sin(xy)\n",
    "- p = x**y"
   ]
  },
  {
   "cell_type": "code",
   "execution_count": 16,
   "id": "56c5884c",
   "metadata": {},
   "outputs": [],
   "source": [
    "import numpy as np\n",
    "x = np.array((1,4,3,2,9,4))\n",
    "y = np.array((2,3,4,1,2,3))\n",
    "u = x+y\n",
    "v = x*y\n",
    "w = x/y\n",
    "z = np.sin(x)\n",
    "r = 8*np.sin(x)\n",
    "s = 5*np.sin(x*y)\n",
    "p = x**y"
   ]
  },
  {
   "cell_type": "markdown",
   "id": "8bb0f943",
   "metadata": {},
   "source": [
    "### 20. Generate an array with size 100 evenly spaced between −10 to 10 using linspace function in NumPy."
   ]
  },
  {
   "cell_type": "code",
   "execution_count": 17,
   "id": "c41cd023",
   "metadata": {},
   "outputs": [
    {
     "data": {
      "text/plain": [
       "array([-10.        ,  -9.7979798 ,  -9.5959596 ,  -9.39393939,\n",
       "        -9.19191919,  -8.98989899,  -8.78787879,  -8.58585859,\n",
       "        -8.38383838,  -8.18181818,  -7.97979798,  -7.77777778,\n",
       "        -7.57575758,  -7.37373737,  -7.17171717,  -6.96969697,\n",
       "        -6.76767677,  -6.56565657,  -6.36363636,  -6.16161616,\n",
       "        -5.95959596,  -5.75757576,  -5.55555556,  -5.35353535,\n",
       "        -5.15151515,  -4.94949495,  -4.74747475,  -4.54545455,\n",
       "        -4.34343434,  -4.14141414,  -3.93939394,  -3.73737374,\n",
       "        -3.53535354,  -3.33333333,  -3.13131313,  -2.92929293,\n",
       "        -2.72727273,  -2.52525253,  -2.32323232,  -2.12121212,\n",
       "        -1.91919192,  -1.71717172,  -1.51515152,  -1.31313131,\n",
       "        -1.11111111,  -0.90909091,  -0.70707071,  -0.50505051,\n",
       "        -0.3030303 ,  -0.1010101 ,   0.1010101 ,   0.3030303 ,\n",
       "         0.50505051,   0.70707071,   0.90909091,   1.11111111,\n",
       "         1.31313131,   1.51515152,   1.71717172,   1.91919192,\n",
       "         2.12121212,   2.32323232,   2.52525253,   2.72727273,\n",
       "         2.92929293,   3.13131313,   3.33333333,   3.53535354,\n",
       "         3.73737374,   3.93939394,   4.14141414,   4.34343434,\n",
       "         4.54545455,   4.74747475,   4.94949495,   5.15151515,\n",
       "         5.35353535,   5.55555556,   5.75757576,   5.95959596,\n",
       "         6.16161616,   6.36363636,   6.56565657,   6.76767677,\n",
       "         6.96969697,   7.17171717,   7.37373737,   7.57575758,\n",
       "         7.77777778,   7.97979798,   8.18181818,   8.38383838,\n",
       "         8.58585859,   8.78787879,   8.98989899,   9.19191919,\n",
       "         9.39393939,   9.5959596 ,   9.7979798 ,  10.        ])"
      ]
     },
     "execution_count": 17,
     "metadata": {},
     "output_type": "execute_result"
    }
   ],
   "source": [
    "arraynoduapuluh = np.linspace(-10,10,100)\n",
    "arraynoduapuluh"
   ]
  },
  {
   "cell_type": "markdown",
   "id": "05d3fb80",
   "metadata": {},
   "source": [
    "### 21. Let array_a be an array [-1, 0, 1, 2, 0, 3]. Write a command that will return an array consisting of all the elements of array_a that are larger than zero. \n",
    "Hint: Use logical expression as the index of the array."
   ]
  },
  {
   "cell_type": "code",
   "execution_count": 30,
   "id": "01fec8ed",
   "metadata": {},
   "outputs": [
    {
     "data": {
      "text/plain": [
       "array([False, False,  True,  True, False,  True])"
      ]
     },
     "execution_count": 30,
     "metadata": {},
     "output_type": "execute_result"
    }
   ],
   "source": [
    "larik = np.array((-1, 0, 1, 2, 0, 3))\n",
    "larik > 0"
   ]
  },
  {
   "cell_type": "code",
   "execution_count": 33,
   "id": "6d4e0a64",
   "metadata": {},
   "outputs": [
    {
     "data": {
      "text/plain": [
       "array([[3, 2, 3],\n",
       "       [5, 2, 8],\n",
       "       [3, 5, 9]])"
      ]
     },
     "execution_count": 33,
     "metadata": {},
     "output_type": "execute_result"
    }
   ],
   "source": [
    "larikk = np.array(([3, 5 ,3],\n",
    "                   [2, 2, 5],\n",
    "                   [3, 8, 9]))\n",
    "larikk.transpose()"
   ]
  },
  {
   "cell_type": "code",
   "execution_count": 40,
   "id": "1f600f1c",
   "metadata": {},
   "outputs": [
    {
     "name": "stdout",
     "output_type": "stream",
     "text": [
      "[[0. 0. 0. 0.]\n",
      " [0. 0. 0. 0.]]\n",
      "[[0. 1. 0. 0.]\n",
      " [0. 1. 0. 0.]]\n"
     ]
    }
   ],
   "source": [
    "larikzero = np.zeros((2,4))\n",
    "print(larikzero)\n",
    "larikzero[:,1] = 1\n",
    "print(larikzero)"
   ]
  },
  {
   "cell_type": "code",
   "execution_count": 41,
   "id": "aa3c8433",
   "metadata": {},
   "outputs": [
    {
     "name": "stdout",
     "output_type": "stream",
     "text": [
      "Once deleted, variables cannot be recovered. Proceed (y/[n])? y\n"
     ]
    }
   ],
   "source": [
    "reset"
   ]
  },
  {
   "cell_type": "code",
   "execution_count": 42,
   "id": "ef111241",
   "metadata": {},
   "outputs": [
    {
     "name": "stdout",
     "output_type": "stream",
     "text": [
      "Interactive namespace is empty.\n"
     ]
    }
   ],
   "source": [
    "%whos"
   ]
  },
  {
   "cell_type": "code",
   "execution_count": null,
   "id": "db1583d6",
   "metadata": {},
   "outputs": [],
   "source": []
  }
 ],
 "metadata": {
  "kernelspec": {
   "display_name": "Python 3 (ipykernel)",
   "language": "python",
   "name": "python3"
  },
  "language_info": {
   "codemirror_mode": {
    "name": "ipython",
    "version": 3
   },
   "file_extension": ".py",
   "mimetype": "text/x-python",
   "name": "python",
   "nbconvert_exporter": "python",
   "pygments_lexer": "ipython3",
   "version": "3.8.11"
  }
 },
 "nbformat": 4,
 "nbformat_minor": 5
}
