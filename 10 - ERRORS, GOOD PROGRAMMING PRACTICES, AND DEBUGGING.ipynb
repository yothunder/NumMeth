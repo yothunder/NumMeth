{
 "cells": [
  {
   "cell_type": "markdown",
   "id": "8a241257",
   "metadata": {},
   "source": [
    "# 10 - ERRORS, GOOD PROGRAMMING PRACTICES, AND DEBUGGING"
   ]
  },
  {
   "cell_type": "markdown",
   "id": "f18af0a8",
   "metadata": {},
   "source": [
    "## Summary\n",
    "1. Errors are inevitable when coding. Errors are important because they tell you that something is not working the way you intended.\n",
    "2. There are three types of errors: syntax errors, exceptions, and logical errors.\n",
    "3. You can reduce the numbers of errors in your coding with good coding practice.\n",
    "4. Try-except statements can be used to handle exceptions without stopping your code.\n",
    "5. The Debugger is a Python tool for helping you find errors."
   ]
  },
  {
   "cell_type": "markdown",
   "id": "0c8e5551",
   "metadata": {},
   "source": [
    "## Problems\n",
    "None, have fun with what we learned in this chapter."
   ]
  }
 ],
 "metadata": {
  "kernelspec": {
   "display_name": "Python 3 (ipykernel)",
   "language": "python",
   "name": "python3"
  },
  "language_info": {
   "codemirror_mode": {
    "name": "ipython",
    "version": 3
   },
   "file_extension": ".py",
   "mimetype": "text/x-python",
   "name": "python",
   "nbconvert_exporter": "python",
   "pygments_lexer": "ipython3",
   "version": "3.8.11"
  }
 },
 "nbformat": 4,
 "nbformat_minor": 5
}
